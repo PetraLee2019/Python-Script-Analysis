{
 "cells": [
  {
   "cell_type": "markdown",
   "metadata": {},
   "source": [
    "# Unit 3 | Assignment - Py Me Up, Charlie\n",
    "\n",
    "## Background\n",
    "\n",
    "Well... you've made it!\n",
    "\n",
    "It's time to put away the Excel sheet and join the big leagues. Welcome to the world of programming with Python. In this homework assignment, you'll be using the concepts you've learned to complete **2** Python Challenges, PyBank and PyPoll.\n",
    "Both of these challenges encompasses a real-world situation where your newfound Python scripting skills can come in handy. These challenges are far from easy so expect some hard work ahead!\n",
    "\n",
    "### Before You Begin\n",
    "\n",
    "1. Create a new GitHub repo called `python-challenge`. Then, clone it to your computer.\n",
    "\n",
    "2. Inside your local git repository, create a directory for both of the  Python Challenges. Use folder names corresponding to the challenges: **PyBank** and  **PyPoll**.\n",
    "\n",
    "3. Inside of each folder that you just created, add a new file called `main.py`. This will be the main script to run for each analysis.\n",
    "\n",
    "4. Push the above changes to GitHub.\n",
    "\n",
    "## PyBank\n",
    "\n",
    "![Revenue](Images/revenue-per-lead.png)\n",
    "\n",
    "* In this challenge, you are tasked with creating a Python script for analyzing the financial records of your company. You will give a set of financial data called [budget_data.csv](PyBank/Resources/budget_data.csv). The dataset is composed of two columns: `Date` and `Profit/Losses`. (Thankfully, your company has rather lax standards for accounting so the records are simple.)\n",
    "\n",
    "* Your task is to create a Python script that analyzes the records to calculate each of the following:\n",
    "\n",
    "  * The total number of months included in the dataset\n",
    "\n",
    "  * The net total amount of \"Profit/Losses\" over the entire period\n",
    "\n",
    "  * The average of the changes in \"Profit/Losses\" over the entire period\n",
    "\n",
    "  * The greatest increase in profits (date and amount) over the entire period\n",
    "\n",
    "  * The greatest decrease in losses (date and amount) over the entire period\n",
    "\n",
    "* As an example, your analysis should look similar to the one below:\n",
    "\n",
    "  ```text\n",
    "  Financial Analysis\n",
    "  ----------------------------\n",
    "  Total Months: 86\n",
    "  Total: $38382578\n",
    "  Average  Change: $-2315.12\n",
    "  Greatest Increase in Profits: Feb-2012 ($1926159)\n",
    "  Greatest Decrease in Profits: Sep-2013 ($-2196167)\n",
    "  ```\n",
    "\n",
    "* In addition, your final script should both print the analysis to the terminal and export a text file with the results."
   ]
  },
  {
   "cell_type": "code",
   "execution_count": 2,
   "metadata": {},
   "outputs": [
    {
     "name": "stdout",
     "output_type": "stream",
     "text": [
      "----------------------------------------------------------\n",
      "Financial Analysis\n",
      "----------------------------------------------------------\n",
      "Total Months: 86\n",
      "Total Profits: $38382578\n",
      "Average Change: $-2315.12\n",
      "Greatest Increase in Profits: Feb-2012 ($1926159)\n",
      "Greatest Decrease in Profits: Sep-2013 ($-2196167)\n",
      "----------------------------------------------------------\n"
     ]
    }
   ],
   "source": [
    "import os\n",
    "import csv\n",
    "\n",
    "\n",
    "PyBankcsv = os.path.join(\"budget_data.csv\")\n",
    "\n",
    "\n",
    "profit = []\n",
    "monthly_changes = []\n",
    "date = []\n",
    "\n",
    " \n",
    "count = 0\n",
    "total_profit = 0\n",
    "total_change_profits = 0\n",
    "initial_profit = 0\n",
    "\n",
    "\n",
    "#########\n",
    "temp = []\n",
    "\n",
    "########\n",
    "\n",
    "\n",
    "with open(PyBankcsv, newline=\"\") as csvfile:\n",
    "    csvreader = csv.reader(csvfile, delimiter=\",\")\n",
    "    csv_header = next(csvreader)\n",
    "\n",
    "    for row in csvreader:    \n",
    "   \n",
    "      count = count + 1 \n",
    "\n",
    "      date.append(row[0])\n",
    "        \n",
    "        \n",
    "      #temp\n",
    "      temp.append(int(row[1]))\n",
    "\n",
    "    \n",
    "      profit.append(row[1])\n",
    "      total_profit = total_profit + int(row[1])\n",
    "\n",
    "      final_profit = int(row[1])\n",
    "      monthly_change_profits = final_profit - initial_profit\n",
    "\n",
    "   \n",
    "      monthly_changes.append(monthly_change_profits)\n",
    "\n",
    "      total_change_profits = total_change_profits + monthly_change_profits\n",
    "      initial_profit = final_profit\n",
    "\n",
    "\n",
    "      average_change_profits = (total_change_profits/count)\n",
    "      greatest_increase_profits = max(monthly_changes)\n",
    "      greatest_decrease_profits = min(monthly_changes)\n",
    "\n",
    "      increase_date = date[monthly_changes.index(greatest_increase_profits)]\n",
    "      decrease_date = date[monthly_changes.index(greatest_decrease_profits)]\n",
    "    \n",
    "    differences = [x - temp[i - 1] for i, x in enumerate(temp)][1:]\n",
    "    avg_changes = sum(differences) / len(differences)\n",
    "    \n",
    "    print(\"----------------------------------------------------------\")\n",
    "    print(\"Financial Analysis\")\n",
    "    print(\"----------------------------------------------------------\")\n",
    "    print(\"Total Months: \" + str(count))\n",
    "    print(\"Total Profits: \" + \"$\" + str(total_profit))\n",
    "    print(\"Average Change: \" + \"$\" + str(round(avg_changes, 2)))\n",
    "    print(\"Greatest Increase in Profits: \" + str(increase_date) + \" ($\" + str(greatest_increase_profits) + \")\")\n",
    "    print(\"Greatest Decrease in Profits: \" + str(decrease_date) + \" ($\" + str(greatest_decrease_profits)+ \")\")\n",
    "    print(\"----------------------------------------------------------\")\n",
    "\n",
    "    \n",
    "\n",
    "    \n",
    "    \n",
    "with open('financial_analysis.txt', 'w') as text:\n",
    "    text.write(\"----------------------------------------------------------\\n\")\n",
    "    text.write(\"  Financial Analysis\"+ \"\\n\")\n",
    "    text.write(\"----------------------------------------------------------\\n\\n\")\n",
    "    text.write(\"    Total Months: \" + str(count) + \"\\n\")\n",
    "    text.write(\"    Total Profits: \" + \"$\" + str(total_profit) +\"\\n\")\n",
    "    text.write(\"    Average Change: \" + '$' + str(round(avg_changes, 2)) + \"\\n\")\n",
    "    text.write(\"    Greatest Increase in Profits: \" + str(increase_date) + \" ($\" + str(greatest_increase_profits) + \")\\n\")\n",
    "    text.write(\"    Greatest Decrease in Profits: \" + str(decrease_date) + \" ($\" + str(greatest_decrease_profits) + \")\\n\")\n",
    "    text.write(\"----------------------------------------------------------\\n\")\n"
   ]
  },
  {
   "cell_type": "code",
   "execution_count": 3,
   "metadata": {},
   "outputs": [
    {
     "name": "stdout",
     "output_type": "stream",
     "text": [
      "Hello,\n",
      "It's me,\n"
     ]
    }
   ],
   "source": [
    "print(\"Hello,\\nIt's me,\")"
   ]
  },
  {
   "cell_type": "code",
   "execution_count": 5,
   "metadata": {},
   "outputs": [
    {
     "name": "stdout",
     "output_type": "stream",
     "text": [
      "<enumerate object at 0x000002882138F510>\n"
     ]
    }
   ],
   "source": [
    "print(enumerate(temp))"
   ]
  },
  {
   "cell_type": "code",
   "execution_count": 6,
   "metadata": {},
   "outputs": [
    {
     "data": {
      "text/plain": [
       "[2, 3, 4, 5]"
      ]
     },
     "execution_count": 6,
     "metadata": {},
     "output_type": "execute_result"
    }
   ],
   "source": [
    "x = [1,2,3,4,5]\n",
    "x[1:]"
   ]
  },
  {
   "cell_type": "code",
   "execution_count": 7,
   "metadata": {},
   "outputs": [
    {
     "data": {
      "text/plain": [
       "85"
      ]
     },
     "execution_count": 7,
     "metadata": {},
     "output_type": "execute_result"
    }
   ],
   "source": [
    "len(differences)"
   ]
  },
  {
   "cell_type": "code",
   "execution_count": 8,
   "metadata": {},
   "outputs": [
    {
     "name": "stdout",
     "output_type": "stream",
     "text": [
      "[116771, -662642, -391430, 379920, 212354, 510239, -428211, -821271, 693918, 416278, -974163, 860159, -1115009, 1033048, 95318, -308093, 99052, -521393, 605450, 231727, -65187, -702716, 177975, -1065544, 1926159, -917805, 898730, -334262, -246499, -64055, -1529236, 1497596, 304914, -635801, 398319, -183161, -37864, -253689, 403655, 94168, 306877, -83000, 210462, -2196167, 1465222, -956983, 1838447, -468003, -64602, 206242, -242155, -449079, 315198, 241099, 111540, 365942, -219310, -368665, 409837, 151210, -110244, -341938, -1212159, 683246, -70825, 335594, 417334, -272194, -236462, 657432, -211262, -128237, -1750387, 925441, 932089, -311434, 267252, -1876758, 1733696, 198551, -665765, 693229, -734926, 77242, 532869]\n"
     ]
    }
   ],
   "source": [
    "print(differences)"
   ]
  },
  {
   "cell_type": "code",
   "execution_count": null,
   "metadata": {},
   "outputs": [],
   "source": []
  }
 ],
 "metadata": {
  "kernelspec": {
   "display_name": "Python 3",
   "language": "python",
   "name": "python3"
  },
  "language_info": {
   "codemirror_mode": {
    "name": "ipython",
    "version": 3
   },
   "file_extension": ".py",
   "mimetype": "text/x-python",
   "name": "python",
   "nbconvert_exporter": "python",
   "pygments_lexer": "ipython3",
   "version": "3.7.3"
  }
 },
 "nbformat": 4,
 "nbformat_minor": 2
}
